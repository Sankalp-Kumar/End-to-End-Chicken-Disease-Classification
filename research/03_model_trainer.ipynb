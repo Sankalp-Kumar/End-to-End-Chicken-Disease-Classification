{
 "cells": [
  {
   "cell_type": "code",
   "execution_count": 1,
   "metadata": {},
   "outputs": [],
   "source": [
    "import os"
   ]
  },
  {
   "cell_type": "code",
   "execution_count": 2,
   "metadata": {},
   "outputs": [
    {
     "data": {
      "text/plain": [
       "'d:\\\\courses\\\\MLOps\\\\End to end project\\\\End-to-End-Chicken-Disease-Classification\\\\research'"
      ]
     },
     "execution_count": 2,
     "metadata": {},
     "output_type": "execute_result"
    }
   ],
   "source": [
    "%pwd"
   ]
  },
  {
   "cell_type": "code",
   "execution_count": 3,
   "metadata": {},
   "outputs": [],
   "source": [
    "os.chdir(\"../\")"
   ]
  },
  {
   "cell_type": "code",
   "execution_count": 4,
   "metadata": {},
   "outputs": [
    {
     "data": {
      "text/plain": [
       "'d:\\\\courses\\\\MLOps\\\\End to end project\\\\End-to-End-Chicken-Disease-Classification'"
      ]
     },
     "execution_count": 4,
     "metadata": {},
     "output_type": "execute_result"
    }
   ],
   "source": [
    "%pwd"
   ]
  },
  {
   "cell_type": "code",
   "execution_count": 5,
   "metadata": {},
   "outputs": [],
   "source": [
    "from dataclasses import dataclass\n",
    "from pathlib import Path\n",
    "\n",
    "\n",
    "@dataclass(frozen=True)\n",
    "class TrainingConfig:\n",
    "    root_dir: Path\n",
    "    trained_model_path: Path\n",
    "    updated_base_model_path: Path\n",
    "    training_data: Path\n",
    "    params_epochs: int\n",
    "    params_batch_size: int\n",
    "    params_is_augmentation: bool\n",
    "    params_image_size: list"
   ]
  },
  {
   "cell_type": "code",
   "execution_count": 6,
   "metadata": {},
   "outputs": [],
   "source": [
    "from cnnClassifier.constants import *\n",
    "from cnnClassifier.utils.common import read_yaml, create_directories\n",
    "import tensorflow as tf"
   ]
  },
  {
   "cell_type": "code",
   "execution_count": 7,
   "metadata": {},
   "outputs": [],
   "source": [
    "class ConfigurationManager:\n",
    "    def __init__(\n",
    "        self,\n",
    "        config_filepath = CONFIG_FILE_PATH,\n",
    "        params_filepath = PARAMS_FILE_PATH):\n",
    "\n",
    "        self.config = read_yaml(config_filepath)\n",
    "        self.params = read_yaml(params_filepath)\n",
    "\n",
    "        create_directories([self.config.artifacts_root])\n",
    "    \n",
    "\n",
    "\n",
    "    def get_training_config(self) -> TrainingConfig:\n",
    "        training = self.config.training\n",
    "        prepare_base_model = self.config.prepare_base_model\n",
    "        params = self.params\n",
    "        training_data = os.path.join(self.config.data_ingestion.unzip_dir, \"Chicken-fecal-images\")\n",
    "        create_directories([\n",
    "            Path(training.root_dir)\n",
    "        ])\n",
    "\n",
    "        training_config = TrainingConfig(\n",
    "            root_dir=Path(training.root_dir),\n",
    "            trained_model_path=Path(training.trained_model_path),\n",
    "            updated_base_model_path=Path(prepare_base_model.updated_base_model_path),\n",
    "            training_data=Path(training_data),\n",
    "            params_epochs=params.EPOCHS,\n",
    "            params_batch_size=params.BATCH_SIZE,\n",
    "            params_is_augmentation=params.AUGMENTATION,\n",
    "            params_image_size=params.IMAGE_SIZE\n",
    "        )\n",
    "\n",
    "        return training_config"
   ]
  },
  {
   "cell_type": "code",
   "execution_count": 8,
   "metadata": {},
   "outputs": [],
   "source": [
    "import os\n",
    "import urllib.request as request\n",
    "from zipfile import ZipFile\n",
    "import tensorflow as tf\n",
    "import time"
   ]
  },
  {
   "cell_type": "code",
   "execution_count": 9,
   "metadata": {},
   "outputs": [],
   "source": [
    "class Training:\n",
    "    def __init__(self, config: TrainingConfig):\n",
    "        self.config = config\n",
    "\n",
    "    \n",
    "    def get_base_model(self):\n",
    "        self.model = tf.keras.models.load_model(\n",
    "            self.config.updated_base_model_path\n",
    "        )\n",
    "\n",
    "    def train_valid_generator(self):\n",
    "\n",
    "        datagenerator_kwargs = dict(\n",
    "            rescale = 1./255,\n",
    "            validation_split=0.20\n",
    "        )\n",
    "\n",
    "        dataflow_kwargs = dict(\n",
    "            target_size=self.config.params_image_size[:-1],\n",
    "            batch_size=self.config.params_batch_size,\n",
    "            interpolation=\"bilinear\"\n",
    "        )\n",
    "\n",
    "        valid_datagenerator = tf.keras.preprocessing.image.ImageDataGenerator(\n",
    "            **datagenerator_kwargs\n",
    "        )\n",
    "\n",
    "        self.valid_generator = valid_datagenerator.flow_from_directory(\n",
    "            directory=self.config.training_data,\n",
    "            subset=\"validation\",\n",
    "            shuffle=False,\n",
    "            **dataflow_kwargs\n",
    "        )\n",
    "\n",
    "        if self.config.params_is_augmentation:\n",
    "            train_datagenerator = tf.keras.preprocessing.image.ImageDataGenerator(\n",
    "                rotation_range=40,\n",
    "                horizontal_flip=True,\n",
    "                width_shift_range=0.2,\n",
    "                height_shift_range=0.2,\n",
    "                shear_range=0.2,\n",
    "                zoom_range=0.2,\n",
    "                **datagenerator_kwargs\n",
    "            )\n",
    "        else:\n",
    "            train_datagenerator = valid_datagenerator\n",
    "\n",
    "        self.train_generator = train_datagenerator.flow_from_directory(\n",
    "            directory=self.config.training_data,\n",
    "            subset=\"training\",\n",
    "            shuffle=True,\n",
    "            **dataflow_kwargs\n",
    "        )\n",
    "\n",
    "    \n",
    "    @staticmethod\n",
    "    def save_model(path: Path, model: tf.keras.Model):\n",
    "        model.save(path)\n",
    "\n",
    "\n",
    "\n",
    "    \n",
    "    def train(self):\n",
    "        self.steps_per_epoch = self.train_generator.samples // self.train_generator.batch_size\n",
    "        self.validation_steps = self.valid_generator.samples // self.valid_generator.batch_size\n",
    "\n",
    "        self.model.fit(\n",
    "            self.train_generator,\n",
    "            epochs=self.config.params_epochs,\n",
    "            steps_per_epoch=self.steps_per_epoch,\n",
    "            validation_steps=self.validation_steps,\n",
    "            validation_data=self.valid_generator\n",
    "        )\n",
    "\n",
    "        self.save_model(\n",
    "            path=self.config.trained_model_path,\n",
    "            model=self.model\n",
    "        )\n",
    "\n"
   ]
  },
  {
   "cell_type": "code",
   "execution_count": 10,
   "metadata": {},
   "outputs": [
    {
     "name": "stdout",
     "output_type": "stream",
     "text": [
      "[2025-03-03 22:37:10,309: INFO: common: yaml file: config\\config.yaml loaded successfully]\n"
     ]
    },
    {
     "name": "stdout",
     "output_type": "stream",
     "text": [
      "[2025-03-03 22:37:10,321: INFO: common: yaml file: params.yaml loaded successfully]\n",
      "[2025-03-03 22:37:10,324: INFO: common: created directory at: artifacts]\n",
      "[2025-03-03 22:37:10,326: INFO: common: created directory at: artifacts\\training]\n",
      "Found 78 images belonging to 2 classes.\n",
      "Found 312 images belonging to 2 classes.\n",
      "Epoch 1/20\n",
      "19/19 [==============================] - 53s 3s/step - loss: 11.2127 - accuracy: 0.5473 - val_loss: 10.2417 - val_accuracy: 0.6094\n",
      "Epoch 2/20\n",
      "19/19 [==============================] - 51s 3s/step - loss: 5.7672 - accuracy: 0.7095 - val_loss: 1.0681 - val_accuracy: 0.8750\n",
      "Epoch 3/20\n",
      "19/19 [==============================] - 51s 3s/step - loss: 5.0193 - accuracy: 0.7466 - val_loss: 0.7551 - val_accuracy: 0.9219\n",
      "Epoch 4/20\n",
      "19/19 [==============================] - 51s 3s/step - loss: 1.7552 - accuracy: 0.7838 - val_loss: 1.1311 - val_accuracy: 0.8750\n",
      "Epoch 5/20\n",
      "19/19 [==============================] - 52s 3s/step - loss: 2.8381 - accuracy: 0.7770 - val_loss: 5.4092 - val_accuracy: 0.7031\n",
      "Epoch 6/20\n",
      "19/19 [==============================] - 52s 3s/step - loss: 2.2500 - accuracy: 0.8378 - val_loss: 2.0968 - val_accuracy: 0.7656\n",
      "Epoch 7/20\n",
      "19/19 [==============================] - 52s 3s/step - loss: 2.3698 - accuracy: 0.8311 - val_loss: 0.8576 - val_accuracy: 0.9219\n",
      "Epoch 8/20\n",
      "19/19 [==============================] - 51s 3s/step - loss: 1.0891 - accuracy: 0.8750 - val_loss: 1.2574 - val_accuracy: 0.8906\n",
      "Epoch 9/20\n",
      "19/19 [==============================] - 51s 3s/step - loss: 0.6169 - accuracy: 0.9155 - val_loss: 1.0248 - val_accuracy: 0.9062\n",
      "Epoch 10/20\n",
      "19/19 [==============================] - 51s 3s/step - loss: 0.8496 - accuracy: 0.9122 - val_loss: 0.9693 - val_accuracy: 0.9219\n",
      "Epoch 11/20\n",
      "19/19 [==============================] - 53s 3s/step - loss: 0.5355 - accuracy: 0.9122 - val_loss: 1.9207 - val_accuracy: 0.7656\n",
      "Epoch 12/20\n",
      "19/19 [==============================] - 53s 3s/step - loss: 2.8438 - accuracy: 0.8074 - val_loss: 0.8560 - val_accuracy: 0.9375\n",
      "Epoch 13/20\n",
      "19/19 [==============================] - 56s 3s/step - loss: 0.6254 - accuracy: 0.9358 - val_loss: 0.9267 - val_accuracy: 0.9062\n",
      "Epoch 14/20\n",
      "19/19 [==============================] - 61s 3s/step - loss: 0.6103 - accuracy: 0.9155 - val_loss: 0.8199 - val_accuracy: 0.9375\n",
      "Epoch 15/20\n",
      "19/19 [==============================] - 65s 3s/step - loss: 0.7267 - accuracy: 0.9122 - val_loss: 0.9894 - val_accuracy: 0.9219\n",
      "Epoch 16/20\n",
      "19/19 [==============================] - 61s 3s/step - loss: 0.4510 - accuracy: 0.9358 - val_loss: 0.7666 - val_accuracy: 0.9531\n",
      "Epoch 17/20\n",
      "19/19 [==============================] - 52s 3s/step - loss: 0.2976 - accuracy: 0.9392 - val_loss: 0.7320 - val_accuracy: 0.9375\n",
      "Epoch 18/20\n",
      "19/19 [==============================] - 50s 3s/step - loss: 0.4585 - accuracy: 0.9223 - val_loss: 0.7449 - val_accuracy: 0.9219\n",
      "Epoch 19/20\n",
      "19/19 [==============================] - 51s 3s/step - loss: 0.4559 - accuracy: 0.9223 - val_loss: 1.8712 - val_accuracy: 0.8594\n",
      "Epoch 20/20\n",
      "19/19 [==============================] - 51s 3s/step - loss: 0.6751 - accuracy: 0.9088 - val_loss: 0.6962 - val_accuracy: 0.9531\n"
     ]
    }
   ],
   "source": [
    "try:\n",
    "    config = ConfigurationManager()\n",
    "    training_config = config.get_training_config()\n",
    "    training = Training(config=training_config)\n",
    "    training.get_base_model()\n",
    "    training.train_valid_generator()\n",
    "    training.train()\n",
    "    \n",
    "except Exception as e:\n",
    "    raise e"
   ]
  },
  {
   "cell_type": "code",
   "execution_count": null,
   "metadata": {},
   "outputs": [],
   "source": []
  }
 ],
 "metadata": {
  "kernelspec": {
   "display_name": "cnn",
   "language": "python",
   "name": "python3"
  },
  "language_info": {
   "codemirror_mode": {
    "name": "ipython",
    "version": 3
   },
   "file_extension": ".py",
   "mimetype": "text/x-python",
   "name": "python",
   "nbconvert_exporter": "python",
   "pygments_lexer": "ipython3",
   "version": "3.11.9"
  }
 },
 "nbformat": 4,
 "nbformat_minor": 2
}
